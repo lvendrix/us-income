{
 "cells": [
  {
   "cell_type": "code",
   "execution_count": 1,
   "id": "69b32bc8",
   "metadata": {},
   "outputs": [],
   "source": [
    "import numpy as np\n",
    "import pandas as pd\n",
    "import plotly.express as px\n",
    "import matplotlib.pyplot as plt\n",
    "from matplotlib.pyplot import style\n",
    "style.use('seaborn')\n",
    "import seaborn as sns"
   ]
  },
  {
   "cell_type": "code",
   "execution_count": 13,
   "id": "b04c9981",
   "metadata": {},
   "outputs": [],
   "source": [
    "from sklearn.ensemble import RandomForestClassifier\n",
    "from sklearn.metrics import matthews_corrcoef, plot_roc_curve, balanced_accuracy_score, r2_score, classification_report, confusion_matrix, accuracy_score, roc_auc_score,roc_curve\n",
    "from sklearn.model_selection import train_test_split,cross_val_score,KFold,GridSearchCV"
   ]
  },
  {
   "cell_type": "code",
   "execution_count": 3,
   "id": "4d265829",
   "metadata": {},
   "outputs": [],
   "source": [
    "train = pd.read_csv('data_train.csv')\n",
    "test = pd.read_csv('data_test.csv')"
   ]
  },
  {
   "cell_type": "code",
   "execution_count": 4,
   "id": "80e15903",
   "metadata": {},
   "outputs": [
    {
     "data": {
      "text/html": [
       "<div>\n",
       "<style scoped>\n",
       "    .dataframe tbody tr th:only-of-type {\n",
       "        vertical-align: middle;\n",
       "    }\n",
       "\n",
       "    .dataframe tbody tr th {\n",
       "        vertical-align: top;\n",
       "    }\n",
       "\n",
       "    .dataframe thead th {\n",
       "        text-align: right;\n",
       "    }\n",
       "</style>\n",
       "<table border=\"1\" class=\"dataframe\">\n",
       "  <thead>\n",
       "    <tr style=\"text-align: right;\">\n",
       "      <th></th>\n",
       "      <th>age</th>\n",
       "      <th>workclass</th>\n",
       "      <th>fnlwgt</th>\n",
       "      <th>education</th>\n",
       "      <th>education-num</th>\n",
       "      <th>marital-status</th>\n",
       "      <th>occupation</th>\n",
       "      <th>relationship</th>\n",
       "      <th>race</th>\n",
       "      <th>sex</th>\n",
       "      <th>capital-gain</th>\n",
       "      <th>capital-loss</th>\n",
       "      <th>hours-per-week</th>\n",
       "      <th>native-country</th>\n",
       "      <th>income</th>\n",
       "    </tr>\n",
       "  </thead>\n",
       "  <tbody>\n",
       "    <tr>\n",
       "      <th>0</th>\n",
       "      <td>39</td>\n",
       "      <td>0</td>\n",
       "      <td>77516</td>\n",
       "      <td>0</td>\n",
       "      <td>13</td>\n",
       "      <td>0</td>\n",
       "      <td>0</td>\n",
       "      <td>0</td>\n",
       "      <td>0</td>\n",
       "      <td>0</td>\n",
       "      <td>2174</td>\n",
       "      <td>0</td>\n",
       "      <td>40</td>\n",
       "      <td>0</td>\n",
       "      <td>0</td>\n",
       "    </tr>\n",
       "    <tr>\n",
       "      <th>1</th>\n",
       "      <td>50</td>\n",
       "      <td>1</td>\n",
       "      <td>83311</td>\n",
       "      <td>0</td>\n",
       "      <td>13</td>\n",
       "      <td>1</td>\n",
       "      <td>1</td>\n",
       "      <td>1</td>\n",
       "      <td>0</td>\n",
       "      <td>0</td>\n",
       "      <td>0</td>\n",
       "      <td>0</td>\n",
       "      <td>13</td>\n",
       "      <td>0</td>\n",
       "      <td>0</td>\n",
       "    </tr>\n",
       "    <tr>\n",
       "      <th>2</th>\n",
       "      <td>38</td>\n",
       "      <td>2</td>\n",
       "      <td>215646</td>\n",
       "      <td>1</td>\n",
       "      <td>9</td>\n",
       "      <td>2</td>\n",
       "      <td>2</td>\n",
       "      <td>0</td>\n",
       "      <td>0</td>\n",
       "      <td>0</td>\n",
       "      <td>0</td>\n",
       "      <td>0</td>\n",
       "      <td>40</td>\n",
       "      <td>0</td>\n",
       "      <td>0</td>\n",
       "    </tr>\n",
       "    <tr>\n",
       "      <th>3</th>\n",
       "      <td>53</td>\n",
       "      <td>2</td>\n",
       "      <td>234721</td>\n",
       "      <td>2</td>\n",
       "      <td>7</td>\n",
       "      <td>1</td>\n",
       "      <td>2</td>\n",
       "      <td>1</td>\n",
       "      <td>1</td>\n",
       "      <td>0</td>\n",
       "      <td>0</td>\n",
       "      <td>0</td>\n",
       "      <td>40</td>\n",
       "      <td>0</td>\n",
       "      <td>0</td>\n",
       "    </tr>\n",
       "    <tr>\n",
       "      <th>4</th>\n",
       "      <td>28</td>\n",
       "      <td>2</td>\n",
       "      <td>338409</td>\n",
       "      <td>0</td>\n",
       "      <td>13</td>\n",
       "      <td>1</td>\n",
       "      <td>3</td>\n",
       "      <td>2</td>\n",
       "      <td>1</td>\n",
       "      <td>1</td>\n",
       "      <td>0</td>\n",
       "      <td>0</td>\n",
       "      <td>40</td>\n",
       "      <td>1</td>\n",
       "      <td>0</td>\n",
       "    </tr>\n",
       "  </tbody>\n",
       "</table>\n",
       "</div>"
      ],
      "text/plain": [
       "   age  workclass  fnlwgt  education  education-num  marital-status  \\\n",
       "0   39          0   77516          0             13               0   \n",
       "1   50          1   83311          0             13               1   \n",
       "2   38          2  215646          1              9               2   \n",
       "3   53          2  234721          2              7               1   \n",
       "4   28          2  338409          0             13               1   \n",
       "\n",
       "   occupation  relationship  race  sex  capital-gain  capital-loss  \\\n",
       "0           0             0     0    0          2174             0   \n",
       "1           1             1     0    0             0             0   \n",
       "2           2             0     0    0             0             0   \n",
       "3           2             1     1    0             0             0   \n",
       "4           3             2     1    1             0             0   \n",
       "\n",
       "   hours-per-week  native-country  income  \n",
       "0              40               0       0  \n",
       "1              13               0       0  \n",
       "2              40               0       0  \n",
       "3              40               0       0  \n",
       "4              40               1       0  "
      ]
     },
     "execution_count": 4,
     "metadata": {},
     "output_type": "execute_result"
    }
   ],
   "source": [
    "train.head()"
   ]
  },
  {
   "cell_type": "markdown",
   "id": "0d292ced",
   "metadata": {},
   "source": [
    "### Our first RF model with default parameters (and random_state = 42)"
   ]
  },
  {
   "cell_type": "code",
   "execution_count": 5,
   "id": "67af64f2",
   "metadata": {},
   "outputs": [],
   "source": [
    "# Train\n",
    "X_train = train.drop(['income'], axis=1)\n",
    "y_train = train['income']\n",
    "# Test\n",
    "X_test = test.drop(['income'], axis=1)\n",
    "y_test = test['income']"
   ]
  },
  {
   "cell_type": "code",
   "execution_count": 18,
   "id": "81cd78d6",
   "metadata": {},
   "outputs": [
    {
     "name": "stdout",
     "output_type": "stream",
     "text": [
      "Accuracy: 0.8529574350469873\n",
      "Mean Cross-Validation Scores: 0.8581742857379947\n"
     ]
    },
    {
     "data": {
      "image/png": "[encoded data removed]",
      "text/plain": [
       "<Figure size 576x396 with 1 Axes>"
      ]
     },
     "metadata": {},
     "output_type": "display_data"
    },
    {
     "name": "stdout",
     "output_type": "stream",
     "text": [
      "              precision    recall  f1-score   support\n",
      "\n",
      "           0       0.88      0.93      0.91     12435\n",
      "           1       0.73      0.61      0.66      3846\n",
      "\n",
      "    accuracy                           0.85     16281\n",
      "   macro avg       0.81      0.77      0.78     16281\n",
      "weighted avg       0.85      0.85      0.85     16281\n",
      "\n",
      "Matthews coefficient: 0.5714334077189942\n"
     ]
    }
   ],
   "source": [
    "rfc = RandomForestClassifier(random_state=42)\n",
    "rfc.fit(X_train, y_train)\n",
    "y_pred=rfc.predict(X_test)\n",
    "print(\"Accuracy:\",accuracy_score(y_test, y_pred))\n",
    "scores = cross_val_score(rfc, X_train, y_train, cv=10, scoring = \"accuracy\")\n",
    "print(\"Mean Cross-Validation Scores:\", scores.mean())\n",
    "ax = plt.gca()\n",
    "rfc_disp = plot_roc_curve(rfc, X_test, y_test, ax=ax, alpha=0.8)\n",
    "plt.title('ROC Curve')\n",
    "plt.show()\n",
    "print(classification_report(y_test,y_pred))\n",
    "print(\"Matthews coefficient:\", matthews_corrcoef(y_test, y_pred))"
   ]
  },
  {
   "cell_type": "code",
   "execution_count": 7,
   "id": "1de0e5f2",
   "metadata": {},
   "outputs": [
    {
     "name": "stdout",
     "output_type": "stream",
     "text": [
      "Evaluating the model on the training set yields an accuracy of 99.99692884125182%\n",
      "Evaluating the model on the testing set yields an accuracy of 85.30%\n"
     ]
    }
   ],
   "source": [
    "score = rfc.score(X_train, y_train)\n",
    "print(\"Evaluating the model on the training set yields an accuracy of {}%\".format(score*100))\n",
    "score=rfc.score(X_test, y_test)\n",
    "print(\"Evaluating the model on the testing set yields an accuracy of {:.2f}%\".format(score*100))"
   ]
  },
  {
   "cell_type": "code",
   "execution_count": 8,
   "id": "3e00743f",
   "metadata": {},
   "outputs": [
    {
     "data": {
      "image/png": "[encoded data removed]",
      "text/plain": [
       "<Figure size 576x396 with 2 Axes>"
      ]
     },
     "metadata": {},
     "output_type": "display_data"
    }
   ],
   "source": [
    "from sklearn.metrics import plot_confusion_matrix\n",
    "plot_confusion_matrix(rfc, X_test, y_test)\n",
    "plt.title('Confusion Matrix')\n",
    "plt.show()  "
   ]
  },
  {
   "cell_type": "code",
   "execution_count": 9,
   "id": "5eb27b4d",
   "metadata": {},
   "outputs": [
    {
     "data": {
      "text/plain": [
       "<AxesSubplot:xlabel='feature'>"
      ]
     },
     "execution_count": 9,
     "metadata": {},
     "output_type": "execute_result"
    },
    {
     "data": {
      "image/png": "[encoded data removed]",
      "text/plain": [
       "<Figure size 1080x432 with 1 Axes>"
      ]
     },
     "metadata": {},
     "output_type": "display_data"
    }
   ],
   "source": [
    "importances = pd.DataFrame({'feature':X_train.columns,'importance':np.round(rfc.feature_importances_,3)})\n",
    "importances1 = importances.sort_values('importance',ascending=False).set_index('feature')\n",
    "importances1.plot(kind='bar',figsize=(15,6))"
   ]
  },
  {
   "cell_type": "markdown",
   "id": "b7452562",
   "metadata": {},
   "source": [
    "### Let's fine tune the hyperparameters"
   ]
  },
  {
   "cell_type": "code",
   "execution_count": 23,
   "id": "79df3838",
   "metadata": {},
   "outputs": [],
   "source": [
    "def single_grid_search(X_train, y_train, n_kfolds):\n",
    "    \"\"\"\n",
    "    Performs a grid search using the training set given.\n",
    "    Prints the best score and best parameters.\n",
    "    Returns the best parameters in a dictionnary.\n",
    "    \"\"\"\n",
    "    rfc = RandomForestClassifier()\n",
    "    kf = KFold(n_splits=n_kfolds)\n",
    "    \n",
    "    # Setting all the parameters we want to test\n",
    "    max_features=np.arange(10,40,10).tolist()\n",
    "    n_estimators=np.arange(100,140,10).tolist()\n",
    "    min_samples_leaf=np.arange(2,12,2).tolist()\n",
    "\n",
    "    param_grid=dict(n_estimators=n_estimators,max_features=max_features,min_samples_leaf=min_samples_leaf)\n",
    "\n",
    "    grid = GridSearchCV(estimator = rfc,\n",
    "                            param_grid = param_grid,\n",
    "                            scoring = 'accuracy', \n",
    "                            cv = kf, \n",
    "                            verbose = 2,\n",
    "                            n_jobs = -1 \n",
    "                            )\n",
    "    gres=grid.fit(X_train_dummies,y_train_dummies)\n",
    "    print(\"Best score\",gres.best_score_)\n",
    "    print(\"Best parameters\",gres.best_params_)\n",
    "    return gres.best_params_"
   ]
  },
  {
   "cell_type": "code",
   "execution_count": 11,
   "id": "f9b81d58",
   "metadata": {},
   "outputs": [],
   "source": [
    "def optimized_model(X_train:pd.DataFrame, \n",
    "                    y_train:pd.DataFrame, \n",
    "                    X_test:pd.DataFrame,\n",
    "                    y_test:pd.DataFrame, \n",
    "                    max_features:int, \n",
    "                    min_samples_leaf:int, \n",
    "                    n_estimators:int, \n",
    "                    random_state=42):\n",
    "    \"\"\"\n",
    "    Gives different score metrics for a RandomForestClassifier model.\n",
    "    Plots the confusion matrix.\n",
    "    \"\"\"\n",
    "    rfc = RandomForestClassifier(\n",
    "        max_features = max_features, \n",
    "        min_samples_leaf = min_samples_leaf, \n",
    "        n_estimators = n_estimators, \n",
    "        random_state = random_state)\n",
    "    rfc.fit(X_train, y_train)\n",
    "    y_pred=rfc.predict(X_test)\n",
    "    print(\"Accuracy:\",accuracy_score(y_test, y_pred))\n",
    "    scores = cross_val_score(rfc, X_train, y_train, cv=10, scoring = \"accuracy\")\n",
    "    print(\"Mean CV Score:\", scores.mean())\n",
    "    print(\"Matthews correlation coefficient:\", matthews_corrcoef(y_test, y_pred))\n",
    "    print(classification_report(y_test,y_pred))\n",
    "    plot_confusion_matrix(rfc, X_test, y_test)\n",
    "    plt.title('Confusion Matrix')\n",
    "    plt.show() "
   ]
  },
  {
   "cell_type": "code",
   "execution_count": 27,
   "id": "e95f6bcf",
   "metadata": {},
   "outputs": [
    {
     "name": "stdout",
     "output_type": "stream",
     "text": [
      "Fitting 3 folds for each of 60 candidates, totalling 180 fits\n",
      "Best score 0.8636714006220783\n",
      "Best parameters {'max_features': 10, 'min_samples_leaf': 2, 'n_estimators': 120}\n"
     ]
    }
   ],
   "source": [
    "result = single_grid_search(X_train, y_train, 3)"
   ]
  },
  {
   "cell_type": "code",
   "execution_count": 28,
   "id": "6720602e",
   "metadata": {},
   "outputs": [
    {
     "name": "stdout",
     "output_type": "stream",
     "text": [
      "Accuracy: 0.8559056569006818\n",
      "Mean CV Score: 0.8608461533238936\n",
      "Matthews correlation coefficient: 0.5790176709927526\n",
      "              precision    recall  f1-score   support\n",
      "\n",
      "           0       0.88      0.93      0.91     12435\n",
      "           1       0.74      0.61      0.67      3846\n",
      "\n",
      "    accuracy                           0.86     16281\n",
      "   macro avg       0.81      0.77      0.79     16281\n",
      "weighted avg       0.85      0.86      0.85     16281\n",
      "\n"
     ]
    },
    {
     "data": {
      "image/png": "[encoded data removed]",
      "text/plain": [
       "<Figure size 576x396 with 2 Axes>"
      ]
     },
     "metadata": {},
     "output_type": "display_data"
    }
   ],
   "source": [
    "optimized_model(X_train, y_train, X_test, y_test, result.get('max_features'), result.get('min_samples_leaf'), result.get('n_estimators'))"
   ]
  },
  {
   "cell_type": "code",
   "execution_count": null,
   "id": "7273794f",
   "metadata": {},
   "outputs": [],
   "source": [
    "score = rfc.score(X_train, y_train)\n",
    "print(\"Evaluating the model on the training set yields an accuracy of {}%\".format(score*100))\n",
    "score=rfc.score(X_test, y_test)\n",
    "print(\"Evaluating the model on the testing set yields an accuracy of {:.2f}%\".format(score*100))"
   ]
  },
  {
   "cell_type": "markdown",
   "id": "13db2fe8",
   "metadata": {},
   "source": [
    "One-Hot Encoding"
   ]
  },
  {
   "cell_type": "code",
   "execution_count": 19,
   "id": "1344fc38",
   "metadata": {},
   "outputs": [],
   "source": [
    "# One-Hot encoding\n",
    "columns_to_dummies = [\n",
    "    'workclass',\n",
    "    'education',\n",
    "    'marital-status',\n",
    "    'occupation',\n",
    "    'relationship', \n",
    "    'race', \n",
    "    'sex', \n",
    "    'native-country']\n",
    "train_dummies = pd.get_dummies(train, columns=columns_to_dummies)\n",
    "test_dummies = pd.get_dummies(test, columns=columns_to_dummies)\n",
    "# Add one more column ['native-country_41'] to the test set, so it matches the columns of the train set\n",
    "test_dummies['native-country_41'] = 0"
   ]
  },
  {
   "cell_type": "code",
   "execution_count": 20,
   "id": "2a600ece",
   "metadata": {},
   "outputs": [],
   "source": [
    "# Train with dummies\n",
    "X_train_dummies = train_dummies.drop(['income'], axis=1)\n",
    "y_train_dummies = train_dummies['income']\n",
    "# Test with dummies\n",
    "X_test_dummies = test_dummies.drop(['income'], axis=1)\n",
    "y_test_dummies = test_dummies['income']"
   ]
  },
  {
   "cell_type": "code",
   "execution_count": 22,
   "id": "c5e16d4e",
   "metadata": {},
   "outputs": [
    {
     "name": "stdout",
     "output_type": "stream",
     "text": [
      "Fitting 3 folds for each of 10 candidates, totalling 30 fits\n",
      "Best score 0.8633642064585416\n",
      "Best parameters {'max_features': 10, 'min_samples_leaf': 2, 'n_estimators': 110}\n"
     ]
    }
   ],
   "source": [
    "result_dummies = single_grid_search(X_train_dummies, y_train_dummies, 3)"
   ]
  },
  {
   "cell_type": "code",
   "execution_count": 24,
   "id": "83af158e",
   "metadata": {},
   "outputs": [
    {
     "name": "stdout",
     "output_type": "stream",
     "text": [
      "Accuracy: 0.8646274798845279\n",
      "Mean CV Score: 0.8643779340509459\n",
      "Matthews correlation coefficient: 0.6036647374402209\n",
      "              precision    recall  f1-score   support\n",
      "\n",
      "           0       0.89      0.94      0.91     12435\n",
      "           1       0.76      0.62      0.68      3846\n",
      "\n",
      "    accuracy                           0.86     16281\n",
      "   macro avg       0.83      0.78      0.80     16281\n",
      "weighted avg       0.86      0.86      0.86     16281\n",
      "\n"
     ]
    },
    {
     "data": {
      "image/png": "[encoded data removed]",
      "text/plain": [
       "<Figure size 576x396 with 2 Axes>"
      ]
     },
     "metadata": {},
     "output_type": "display_data"
    }
   ],
   "source": [
    "optimized_model(X_train_dummies, y_train_dummies, X_test_dummies, y_test_dummies, result_dummies.get('max_features'), result_dummies.get('min_samples_leaf'), result_dummies.get('n_estimators'))"
   ]
  }
 ],
 "metadata": {
  "kernelspec": {
   "display_name": "Python 3",
   "language": "python",
   "name": "python3"
  },
  "language_info": {
   "codemirror_mode": {
    "name": "ipython",
    "version": 3
   },
   "file_extension": ".py",
   "mimetype": "text/x-python",
   "name": "python",
   "nbconvert_exporter": "python",
   "pygments_lexer": "ipython3",
   "version": "3.8.8"
  }
 },
 "nbformat": 4,
 "nbformat_minor": 5
}
